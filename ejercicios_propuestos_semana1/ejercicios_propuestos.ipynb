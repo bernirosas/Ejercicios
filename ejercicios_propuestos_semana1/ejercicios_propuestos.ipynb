{
 "cells": [
  {
   "cell_type": "markdown",
   "metadata": {},
   "source": [
    "<p>\n",
    "<font size='5' face='Georgia, Arial'>IIC-2233 Apunte Programación Avanzada</font><br>\n",
    "<font size='1'> Ejercicios creados a partir de 2019-2 por Equipo Docente IIC2233. </font>\n",
    "<font size='1'> Actualizados en 2020-1.</font>\n",
    "</p>\n",
    "\n",
    "\n",
    "# Ejercicios propuestos: Estructuras de datos *built-ins*"
   ]
  },
  {
   "cell_type": "markdown",
   "metadata": {},
   "source": [
    "Los siguientes problemas se proveen como oportunidad de ejercitar los conceptos revisados en el material de **estructuras de datos *built-ins***. Si tienes dudas sobre algún problema o alguna solución, no dudes en dejar una *issue* en el [foro del curso](https://github.com/IIC2233/syllabus/issues).\n",
    "\n",
    "Los ejercicios se subdividen según la numeración de los cuadernos de la semana. Algunos de ellos se referencian desde los cuadernos de material mismo, mientras que pueden haber otros adicionales para mayor ejercitación."
   ]
  },
  {
   "cell_type": "markdown",
   "metadata": {},
   "source": [
    "## 2. Listas y tuplas"
   ]
  },
  {
   "cell_type": "markdown",
   "metadata": {},
   "source": [
    "### Ejercicio 2.1: ¡A jugar *Pro-Gra-Oh*!"
   ]
  },
  {
   "cell_type": "markdown",
   "metadata": {},
   "source": [
    "Debes simular una versión simplificada del famoso juego de cartas Pro-Gra-Oh!.\n",
    "\n",
    "Para lo anterior deberás cargar las cartas del archivo `cards.csv` (que se encuentra en este mismo directorio), en una estructura de datos adecuada, y completar las funciones que se encuentran a continuación.\n",
    "\n",
    "En una partida de este juego, cada jugador recibirá 5 cartas y atacará con una de sus cartas (aleatoriamente) a una de las cartas del otro jugador (también al azar). Al realizar el ataque, se comparan los puntos de ataque del atacante con los puntos de defensa del defensor; la carta con menor valor debe ser descartada de la mano del jugador.\n",
    "\n",
    "La partida termina cuando un jugador se queda sin cartas."
   ]
  },
  {
   "cell_type": "code",
   "execution_count": 65,
   "metadata": {
    "scrolled": true
   },
   "outputs": [
    {
     "name": "stdout",
     "output_type": "stream",
     "text": [
      "Archivo leido:)\n",
      "Cartas jugador 1: Dystopia the Despondent, X-Saber Uruz, Evilswarm Exciton Knight, Vylon Epsilon, Justice of Prophecy\n",
      "Cartas jugador 2: Mecha Phantom Beast Blackfalcon, Crystron Quan, Mystery Hand, Metalfoes Volflame, Predaplant Chimerafflesia\n",
      "Turno número 1\n",
      "El jugador 1 atacó de manera exitosa\n",
      "Cartas jugador 1: Dystopia the Despondent, X-Saber Uruz, Evilswarm Exciton Knight, Vylon Epsilon, Justice of Prophecy\n",
      "Cartas jugador 2: Mecha Phantom Beast Blackfalcon, Mystery Hand, Metalfoes Volflame, Predaplant Chimerafflesia\n",
      "Turno número 2\n",
      "El jugador 2 atacó de manera exitosa\n",
      "Cartas jugador 1: Dystopia the Despondent, X-Saber Uruz, Vylon Epsilon, Justice of Prophecy\n",
      "Cartas jugador 2: Mecha Phantom Beast Blackfalcon, Mystery Hand, Metalfoes Volflame, Predaplant Chimerafflesia\n",
      "Turno número 3\n",
      "El jugador 1 perdió al atacar\n",
      "Cartas jugador 1: Dystopia the Despondent, X-Saber Uruz, Vylon Epsilon\n",
      "Cartas jugador 2: Mecha Phantom Beast Blackfalcon, Mystery Hand, Metalfoes Volflame, Predaplant Chimerafflesia\n",
      "Turno número 4\n",
      "El jugador 2 atacó de manera exitosa\n",
      "Cartas jugador 1: Dystopia the Despondent, X-Saber Uruz\n",
      "Cartas jugador 2: Mecha Phantom Beast Blackfalcon, Mystery Hand, Metalfoes Volflame, Predaplant Chimerafflesia\n",
      "Turno número 5\n",
      "El jugador 1 atacó de manera exitosa\n",
      "Cartas jugador 1: Dystopia the Despondent, X-Saber Uruz\n",
      "Cartas jugador 2: Mystery Hand, Metalfoes Volflame, Predaplant Chimerafflesia\n",
      "Turno número 6\n",
      "El jugador 2 perdió al atacar\n",
      "Cartas jugador 1: Dystopia the Despondent, X-Saber Uruz\n",
      "Cartas jugador 2: Mystery Hand, Metalfoes Volflame\n",
      "Turno número 7\n",
      "El jugador 1 atacó de manera exitosa\n",
      "Cartas jugador 1: Dystopia the Despondent, X-Saber Uruz\n",
      "Cartas jugador 2: Metalfoes Volflame\n",
      "Turno número 8\n",
      "El jugador 2 perdió al atacar\n",
      "Gana jugador 1\n"
     ]
    }
   ],
   "source": [
    "from random import randint\n",
    "from collections import namedtuple\n",
    "\n",
    "class Juego:\n",
    "    \n",
    "    def __init__(self, turnos):\n",
    "        \n",
    "        self.mazo = []\n",
    "        self.cartas_j1 = []\n",
    "        self.cartas_j2 = []\n",
    "\n",
    "        self.read_file()\n",
    "        self.repartir_cartas()\n",
    "        self.comenzar_juego(turnos)\n",
    "\n",
    "    \n",
    "    def read_file(self):\n",
    "        # Leer las cartas y guardarlas en una estructura de datos adecuada\n",
    "        # NOTA: la primera fila del archivo son los atributos de las cartas\n",
    "        with open(\"cards.csv\", \"rt\") as archivo:\n",
    "            lineas_sucias = archivo.readlines()\n",
    "            lineas = []\n",
    "        for linea_sucia in lineas_sucias:\n",
    "            linea = linea_sucia.strip().split(\",\")\n",
    "            if linea != [\"nombre\",\"ataque\",\"defensa\"]:\n",
    "                registro = namedtuple(\"carta\",[\"nombre\",\"ataque\",\"defensa\"])\n",
    "                añadir = registro(str(linea[0]),int(linea[1]),int(linea[2]))\n",
    "                lineas.append(añadir)\n",
    "        self.mazo = lineas\n",
    "        print(\"Archivo leido:)\")\n",
    "        return\n",
    "         \n",
    "    \n",
    "    def repartir_cartas(self):\n",
    "        # Barajar las cartas y repartirlas de a 1, notar que cartas corresponden a listas de tres elementos\n",
    "        for contador in range(5):\n",
    "            carta_1 = self.mazo.pop(randint(0,len(self.mazo)-1))\n",
    "            self.cartas_j1.append(carta_1)\n",
    "            carta_2 = self.mazo.pop(randint(0,len(self.mazo)-1))\n",
    "            self.cartas_j2.append(carta_2)       \n",
    "    def atacar(self, atacante, defensa): #asumimos que recibimos tuplas\n",
    "        ptos_ataque = atacante.ataque\n",
    "        ptos_defensa = defensa.defensa\n",
    "        if ptos_ataque > ptos_defensa:\n",
    "            return True\n",
    "        else:\n",
    "            return False\n",
    "\n",
    "    def comenzar_juego(self, turnos):\n",
    "\n",
    "        for i in range(1, turnos + 1):\n",
    "            if len(self.cartas_j2)>0 and len(self.cartas_j1)>0:\n",
    "                cartas_1 = \", \".join([carta.nombre for carta in self.cartas_j1])\n",
    "                cartas_2 = \", \".join([carta.nombre for carta in self.cartas_j2])\n",
    "                print(f\"Cartas jugador 1: {cartas_1}\")\n",
    "                print(f\"Cartas jugador 2: {cartas_2}\")\n",
    "                print(f\"Turno número {i}\")\n",
    "                posicion_1 = randint(0,len(self.cartas_j1)-1)\n",
    "                posicion_2 = randint(0,len(self.cartas_j2)-1)\n",
    "                if i % 2:\n",
    "                    # Ataca el jugador 1\n",
    "                    carta_atacante = self.cartas_j1[posicion_1]\n",
    "                    carta_defensora = self.cartas_j2[posicion_2]\n",
    "                    ataque = self.atacar(carta_atacante,carta_defensora)\n",
    "                    if ataque:\n",
    "                        print(\"El jugador 1 atacó de manera exitosa\")\n",
    "                        self.cartas_j2.pop(posicion_2)\n",
    "                    else:\n",
    "                        print(\"El jugador 1 perdió al atacar\")\n",
    "                        self.cartas_j1.pop(posicion_1)\n",
    "\n",
    "                else:\n",
    "                    # Ataca el jugador 2\n",
    "                    carta_atacante = self.cartas_j2[posicion_2]\n",
    "                    carta_defensora = self.cartas_j1[posicion_1]                \n",
    "                    ataque = self.atacar(carta_atacante,carta_defensora)\n",
    "                    if ataque:\n",
    "                        print(\"El jugador 2 atacó de manera exitosa\")\n",
    "                        self.cartas_j1.pop(posicion_1)\n",
    "                    else:\n",
    "                        print(\"El jugador 2 perdió al atacar\")\n",
    "                        self.cartas_j2.pop(posicion_2)\n",
    "        if len(self.cartas_j1)>0:\n",
    "            print(\"Gana jugador 1\")\n",
    "        else:\n",
    "            print(\"Gana jugador 2\")\n",
    "        return\n",
    "        \n",
    "juego = Juego(10)"
   ]
  },
  {
   "cell_type": "markdown",
   "metadata": {},
   "source": [
    "## 3. *Stacks*"
   ]
  },
  {
   "cell_type": "markdown",
   "metadata": {},
   "source": [
    "### Ejercicio 3.1: Torre de Hanói"
   ]
  },
  {
   "cell_type": "markdown",
   "metadata": {},
   "source": [
    "Una Torre de Hanói es un rompecabezas consistente en una serie de discos perforados que deben trasladarse desde su posición inicial en el primer pilar, ordenados desde el más grande abajo hasta el más pequeño arriba, hasta la misma posición pero en el tercer pilar. Sin embargo, hay una regla importante: **debes trasladar los discos al tercer poste moviendo un disco a la vez y sin colocar un disco grande encima de uno pequeño**. Ahora implementarás tu propia versión de este rompecabezas.\n",
    "\n",
    "![](../img/hanoi-1.png)\n",
    "\n",
    "La clase `TorreDeHanoi` está conformada por 3 pilares, donde cada uno es un *stack*, ya que solo puedes añadir y quitar discos por un extremo de cada pilar. La clase viene con los métodos `__init__` y `__str__` implementados, por lo que puedes ver el estado inicial de la torre. Sin embargo, **solo con métodos de *stacks***, deberás implementar el método `mover_disco`, que recibe el número del pilar desde donde sale el disco y el número del pilar al que llega un disco. Cabe destacar que el tamaño de un disco está representado por el número contenido en el pilar (por ejemplo, el 6 representa al disco más grande y el 1 al más pequeño). Una vez que implementes este método, te retamos a hacer una función que ocupe las operaciones de *stacks* necesarias para mover el disco. **Recuerda no colocar un disco grande encima de uno pequeño**.\n",
    "\n",
    "![](../img/hanoi-2.png)\n",
    "\n",
    "**PS:** Además, te retamos a: (1) verificar que un movimiento es válido (no queda un disco grande sobre uno pequeño) y (2) crear una función que verifique si el rompecabezas fue completado correctamente . "
   ]
  },
  {
   "cell_type": "code",
   "execution_count": 1,
   "metadata": {},
   "outputs": [],
   "source": [
    "class TorreDeHanoi:\n",
    "    \n",
    "    def __init__(self):\n",
    "        self.pilar_1 = [6, 5, 4, 3, 2, 1]\n",
    "        self.pilar_2 = []\n",
    "        self.pilar_3 = []\n",
    "        self.largo_inicial = (len(self.pilar_1),)\n",
    "        \n",
    "    def mover_disco(self, pilar_origen, pilar_destino):\n",
    "        # Recuerda que debes sacar el elemento que está más arriba en el pilar de origen\n",
    "        # y colocarlo en lo más alto del pilar de destino\n",
    "        # Sacar el disco\n",
    "        if pilar_origen == 1:\n",
    "            origen = self.pilar_1\n",
    "        elif pilar_origen == 2:\n",
    "            origen = self.pilar_2\n",
    "        elif pilar_origen == 3:\n",
    "            origen = self.pilar_3\n",
    "        if pilar_destino == 1:\n",
    "            destino = self.pilar_1\n",
    "        elif pilar_destino == 2:\n",
    "            destino = self.pilar_2\n",
    "        elif pilar_destino == 3:\n",
    "            destino = self.pilar_3\n",
    "        trasladado = origen.pop()\n",
    "        if len(destino)>0:\n",
    "            if destino[-1] > trasladado:\n",
    "                destino.append(trasladado)\n",
    "                print(\"Movimiento exitoso\")\n",
    "            else:\n",
    "                print(\"Movimiento fallido\")\n",
    "                origen.append(trasladado)\n",
    "        else:\n",
    "            destino.append(trasladado)\n",
    "            print(\"Movimiento exitoso\")\n",
    "        return\n",
    "    def __str__(self):\n",
    "        output = \"\"\n",
    "        # Range termina con -1 para recorrer al revés\n",
    "        for i in range(5, -1, -1):\n",
    "            fila = \" \"  # Armamos una fila a la vez, desde arriba\n",
    "            # Pilar 1\n",
    "            if len(self.pilar_1) > i:\n",
    "                fila += str(self.pilar_1[i]) + \" \"\n",
    "            else:\n",
    "                fila += \"x \"\n",
    "            # Pilar 2\n",
    "            if len(self.pilar_2) > i:\n",
    "                fila += str(self.pilar_2[i]) + \" \"\n",
    "            else:\n",
    "                fila += \"x \"\n",
    "            # Pilar 3\n",
    "            if len(self.pilar_3) > i:\n",
    "                fila += str(self.pilar_3[i]) + \" \"\n",
    "            else:\n",
    "                fila += \"x \"\n",
    "            output += fila + \"\\n\"\n",
    "        output += \"=\" * 7 + \"\\n\"\n",
    "        return output\n",
    "    def esta_completo(self):\n",
    "        if len(self.pilar_3)== (self.largo_inicial[0]):\n",
    "            return \"puzzle completo\"\n",
    "        else:\n",
    "            return\"puzzle incompleto\""
   ]
  },
  {
   "cell_type": "code",
   "execution_count": 2,
   "metadata": {},
   "outputs": [
    {
     "name": "stdout",
     "output_type": "stream",
     "text": [
      " 1 x x \n",
      " 2 x x \n",
      " 3 x x \n",
      " 4 x x \n",
      " 5 x x \n",
      " 6 x x \n",
      "=======\n",
      "\n"
     ]
    }
   ],
   "source": [
    "torre_de_hanoi = TorreDeHanoi()\n",
    "print(torre_de_hanoi)"
   ]
  },
  {
   "cell_type": "code",
   "execution_count": null,
   "metadata": {},
   "outputs": [],
   "source": [
    "torre_de_hanoi.mover_disco(1, 2) # Del pilar 1 al pilar 2\n",
    "print(torre_de_hanoi)\n",
    "print(torre_de_hanoi.esta_completo())"
   ]
  },
  {
   "cell_type": "markdown",
   "metadata": {},
   "source": [
    "## 4. Colas"
   ]
  },
  {
   "cell_type": "markdown",
   "metadata": {},
   "source": [
    "### Ejercicio 4.1: Comandos de Git"
   ]
  },
  {
   "cell_type": "markdown",
   "metadata": {},
   "source": [
    "En este ejercicio debes intentar simular los comandos básicos de `git`: `add`, `commit` y `push` usando, para cada una de ellos, alguna estructura básica. Para esto, se te entrega la clase `Repositorio` en donde debes completar los siguientes métodos.\n",
    "\n",
    "- `git add`: No debe dejar que suba a tu repositorio **archivos repetidos**.\n",
    "- `git commit`: Aquí confirmas los cambios que indicaste con `git add` y los dejas \"*en espera*\" según una lógica **FIFO** ( _First in, First out_ ). \n",
    "- `git push`: Se realizan los cambios pedidos en el repositorio.\n",
    "\n",
    "Por simplicidad considera que cada cambio será agregar o eliminar archivos, y no modificaciones a un archivo.\n",
    "\n",
    "Puedes empezar con el siguiente código:"
   ]
  },
  {
   "cell_type": "code",
   "execution_count": 30,
   "metadata": {},
   "outputs": [
    {
     "name": "stdout",
     "output_type": "stream",
     "text": [
      "deque(['README.md'])\n",
      "Agregado el README :D\n",
      "['main.py', 'windows.py', 'user.txt', 'README.md']\n",
      "deque(['data.json', 'client.py'])\n",
      "subiendo datos\n",
      "['main.py', 'windows.py', 'user.txt', 'README.md', 'data.json', 'client.py']\n"
     ]
    }
   ],
   "source": [
    "from collections import deque\n",
    "class Repositorio:\n",
    "    \n",
    "    def __init__(self, archivos=[]):\n",
    "        self.archivos_locales = archivos\n",
    "        self.archivos_remotos = []\n",
    "        for archivo in self.archivos_locales:\n",
    "            if archivo not in self.archivos_remotos:\n",
    "                self.archivos_remotos.append(archivo)\n",
    "        self.añadir = deque()\n",
    "        self.clonar_repositorio = []\n",
    "        #puedes agregar más atributos si lo estimas necesario ;)\n",
    "        \n",
    "    def git_add(self, archivos):\n",
    "        if archivos != str(archivos):\n",
    "            for archivo in archivos:\n",
    "                if archivo not in self.archivos_remotos:\n",
    "                    self.añadir.append(archivo)\n",
    "        elif archivos not in self.archivos_remotos:\n",
    "            self.añadir.append(archivos)\n",
    "        print(self.añadir)\n",
    "                \n",
    "    def git_commit(self, comentario):\n",
    "        self.clonar_repositorio =  self.archivos_remotos[:]\n",
    "        for i in range(len(self.añadir)):\n",
    "            añadir = self.añadir.popleft()\n",
    "            self.clonar_repositorio.append(añadir)\n",
    "            self.archivos_locales.append(añadir)\n",
    "        print(comentario)\n",
    "\n",
    "\n",
    "    def git_push(self):\n",
    "        self.archivos_remotos = self.clonar_repositorio[:]    \n",
    "            \n",
    "        print(self.archivos_remotos)\n",
    "\n",
    "if __name__ == \"__main__\":\n",
    "    mi_repo = Repositorio([\"main.py\", \"windows.py\", \"user.txt\"])\n",
    "    mi_repo.git_add('README.md')\n",
    "    mi_repo.git_commit('Agregado el README :D')\n",
    "    mi_repo.git_push()\n",
    "    mi_repo.git_add([\"data.json\", \"client.py\", \"user.txt\"])\n",
    "    mi_repo.git_commit(\"subiendo datos\")\n",
    "    mi_repo.git_push()\n",
    "    "
   ]
  },
  {
   "cell_type": "markdown",
   "metadata": {},
   "source": [
    "## 5. Diccionarios"
   ]
  },
  {
   "cell_type": "markdown",
   "metadata": {},
   "source": [
    "### Ejercicio 5.1: Indice de consonantes en el abecedario"
   ]
  },
  {
   "cell_type": "markdown",
   "metadata": {},
   "source": [
    "A continuación, se te entrega código que tiene dentro de la variable `letras` un *string* que contiene en orden los caracteres del idioma inglés en orden, desde la `'a'` hasta la `'z'`. Con eso, sigue las siguientes instrucciones:\n",
    "\n",
    "- Crea un diccionario vacío\n",
    "- Por cada caracter en `letras`, crea una asociación en tu diccionario, donde el valor es el caracter y la llave es el índice numérico donde se ubica ese caracter en `letras`. Por ejemplo, primero se agregaría la asociación `0: 'a'`, ya que la `'a'` es el primer caracter en `letras`.\n",
    "- Una vez todas creadas, elimina las asociaciones cuyas llaves sean múltiplos de 3.\n",
    "- Imprime el diccionario que resulta."
   ]
  },
  {
   "cell_type": "code",
   "execution_count": 5,
   "metadata": {},
   "outputs": [
    {
     "name": "stdout",
     "output_type": "stream",
     "text": [
      "abcdefghijklmnopqrstuvwxyz\n",
      "{0: 'A', 1: 'B', 2: 'C', 4: 'E', 5: 'F', 7: 'H', 8: 'I', 10: 'K', 11: 'L', 13: 'N', 14: 'O', 16: 'Q', 17: 'R', 19: 'T', 20: 'U', 22: 'W', 23: 'X', 25: 'Z'}\n",
      "{'A': 0, 'B': 1, 'C': 2, 'D': 3, 'E': 4, 'F': 5, 'G': 6, 'H': 7, 'I': 8, 'J': 9, 'K': 10, 'L': 11, 'M': 12, 'N': 13, 'O': 14, 'P': 15, 'Q': 16, 'R': 17, 'S': 18, 'T': 19, 'U': 20, 'V': 21, 'W': 22, 'X': 23, 'Y': 24, 'Z': 25}\n"
     ]
    }
   ],
   "source": [
    "from string import ascii_lowercase as letras\n",
    "\n",
    "print(letras)\n",
    "\n",
    "diccionario = {}\n",
    "contador = 0\n",
    "for letra in letras:\n",
    "    diccionario[contador] = letra.upper()\n",
    "    contador += 1\n",
    "for i in range(3,contador,3):\n",
    "    del diccionario[i]\n",
    "print(diccionario)\n",
    "\n",
    "diccionario_comprension = {letras[i].upper():i for i in range(len(letras))}\n",
    "print(diccionario_comprension)"
   ]
  },
  {
   "cell_type": "markdown",
   "metadata": {},
   "source": [
    "### Ejercicio 5.2: Categorizar por grupo"
   ]
  },
  {
   "cell_type": "markdown",
   "metadata": {},
   "source": [
    "A continuación, se te entrega código incompleto. Hasta el momento, crea una lista (`personas`) de 100 instancias una tupla `Persona` que poseen `edad` y `nacionalidad` cada una. Debes crear dos diccionarios: `personas_por_paises` y `personas_por_edad`, y poblarlos tal  que:\n",
    "\n",
    "- `personas_por_paises` contenga asociaciones donde las llaves son nombres de las distintas nacionalidades posibles para las instancias de `Persona`, y el valor asociado es una lista con aquellas instancias en `personas` que tienen ese valor de `nacionalidad`.\n",
    "- `personas_por_edad` similarmente contenga listas de instancias en `personas` pero categorizados por rangos de edades en las llaves. Específicamente, las llaves deben ser tuplas que indiquen los extremos de dichos rangos que vayan de 10 en 10. Es decir: `(0, 10)`,  `(11, 20)`, ..., `(91, 100)`; son llaves del diccionario.\n",
    "\n",
    "**Observación**: No hay una única forma de generar lo pedido, intenta hacerlo como puedas inicialmente, y luego analiza si lo puedes alterar o usar otro tipo de definición de diccionario distinta."
   ]
  },
  {
   "cell_type": "code",
   "execution_count": 2,
   "metadata": {},
   "outputs": [],
   "source": [
    "from random import choice, randint\n",
    "from collections import namedtuple, defaultdict # Puedes usar defaultdict si lo deseas\n",
    "\n",
    "\n",
    "paises = ['Argentina', 'Bolivia', 'Chile', 'Perú']\n",
    "Persona = namedtuple('Persona', 'edad nacionalidad')\n",
    "\n",
    "personas = []\n",
    "for i in range(100):\n",
    "    nueva_persona = Persona(randint(0, 100), choice(paises))\n",
    "    personas.append(nueva_persona)\n",
    "\n",
    "personas_por_paises = {}\n",
    "personas_por_edad = {}\n",
    "for persona in personas:\n",
    "    if persona.nacionalidad not in personas_por_paises:\n",
    "        personas_por_paises[persona.nacionalidad] = [persona]\n",
    "    else:\n",
    "        personas_por_paises[persona.nacionalidad].append(persona)\n",
    "\n",
    "for persona in personas:\n",
    "    if persona.edad >=0 and persona.edad <= 10:\n",
    "        rango_tupla = (0,10)\n",
    "    else:\n",
    "        extremo_inferior = (persona.edad//10)*10 +1\n",
    "        extremo_superior = (persona.edad//10)*10 +10\n",
    "        rango_tupla = (extremo_inferior,extremo_superior)\n",
    "        \n",
    "    if rango_tupla not in personas_por_edad:\n",
    "        personas_por_edad[rango_tupla] = [persona]\n",
    "    else:\n",
    "        personas_por_edad[rango_tupla].append(persona)\n"
   ]
  },
  {
   "cell_type": "markdown",
   "metadata": {},
   "source": [
    "### Ejercicio 5.3: Diccionarios y funciones"
   ]
  },
  {
   "cell_type": "code",
   "execution_count": null,
   "metadata": {},
   "outputs": [],
   "source": [
    "\n"
   ]
  },
  {
   "cell_type": "markdown",
   "metadata": {},
   "source": [
    "El siguiente código tiene lo necesario para simular el movimiento de un objeto en una matriz de 3 por 3. La variable `tablero` es una lista de listas con el contenido del tablero matricial, donde `'o'` representa el objeto en movimiento, y `pos` es una posición actual en la matriz. Por otro lado, las funciones `bajar`, `subir`, `derecha` e `izquierda` generan los cambios en `tablero` y `pos` para mover el objeto correspondientemente.\n",
    "\n",
    "La última sección genera interacción con el usuario mediante `input`, donde al recibir los caracteres `'a'`, `'s'`, `'d'`, `'w'` y `'q'` genera una acción. Ya está definido que al ingresar `'q'`, se termina el programa. Debes completar el programa para que al ingresar `'a'` el objeto se mueva a la izquierda, al ingresar `'d'` el objeto se mueva a la derecha, al ingresar `'s'` el objeto se mueva hacia abajo, y al ingresar `'w'` el objeto se mueva hacia arriba.\n",
    "\n",
    "**Observación:** Es fácil el ejercicio utilizando más sentencias `if-elif-else`. Intenta no usarlas y utilizar un diccionario para resolverlo."
   ]
  },
  {
   "cell_type": "code",
   "execution_count": 1,
   "metadata": {},
   "outputs": [
    {
     "name": "stdout",
     "output_type": "stream",
     "text": [
      "[['-', '-', '-'], ['-', 'o', '-'], ['-', '-', '-']]\n",
      "[['-', '-', '-'], ['-', 'o', '-'], ['-', '-', '-']]\n",
      "---\n",
      "-o-\n",
      "---\n"
     ]
    }
   ],
   "source": [
    "# Lo había hecho entero y se perdió :/\n",
    "tablero = [['-', '-', '-'], ['-', 'o', '-'], ['-', '-', '-']]\n",
    "pos = (1, 1)\n",
    "\n",
    "def bajar(tablero, pos, usar_funcion):\n",
    "    if usar_funcion:        \n",
    "        tablero[pos[1]][pos[0]] = '-'\n",
    "        pos = (pos[0], min(pos[1] + 1, 2))\n",
    "        tablero[pos[1]][pos[0]] = 'o'\n",
    "        return tablero, pos\n",
    "\n",
    "def subir(tablero, pos, usar_funcion):\n",
    "    if usar_funcion:\n",
    "        tablero[pos[1]][pos[0]] = '-'\n",
    "        pos = (pos[0], max(pos[1] - 1, 0))\n",
    "        tablero[pos[1]][pos[0]] = 'o'\n",
    "        return tablero, pos\n",
    "    \n",
    "def derecha(tablero, pos, usar_funcion):\n",
    "    if usar_funcion:        \n",
    "        tablero[pos[1]][pos[0]] = '-'\n",
    "        pos = (min(pos[0] + 1, 2), pos[1])\n",
    "        tablero[pos[1]][pos[0]] = 'o'\n",
    "        return tablero, pos\n",
    "\n",
    "def izquierda(tablero, pos, usar_funcion):\n",
    "    if usar_funcion:\n",
    "        tablero[pos[1]][pos[0]] = '-'\n",
    "        pos = (max(pos[0] - 1, 0), pos[1])\n",
    "        tablero[pos[1]][pos[0]] = 'o'\n",
    "        return tablero, pos\n",
    "print(tablero)\n",
    "# Puedes rellenar aquí\n",
    "usar_funcion = False\n",
    "diccionario = {\"a\":izquierda(tablero, pos, usar_funcion),\"s\": bajar(tablero, pos, usar_funcion),\\\n",
    "               \"d\":derecha(tablero, pos, usar_funcion),\"w\":subir(tablero, pos, usar_funcion)}\n",
    "print(tablero)\n",
    "while True:\n",
    "    usar_funcion = True\n",
    "    for fila in tablero:\n",
    "        print(\"\".join(fila))\n",
    "    accion = input(\"Ingresa acción: \")\n",
    "    if accion in \"asdw\":\n",
    "        print(usar_funcion)\n",
    "        funcion = diccionario[accion]\n",
    "    elif accion == \"q\":\n",
    "        print(\"¡Adios!\")\n",
    "        break\n",
    "    else:\n",
    "        print(\"Inválido\")\n",
    "        \n",
    "        "
   ]
  },
  {
   "cell_type": "markdown",
   "metadata": {},
   "source": [
    "# 6. *Sets*"
   ]
  },
  {
   "cell_type": "markdown",
   "metadata": {},
   "source": [
    "### Ejercicio 6.1: *Set* de números aleatorios"
   ]
  },
  {
   "cell_type": "markdown",
   "metadata": {},
   "source": [
    "Crea un *set* vacío, y agrega 100 veces un número aleatorio entre 0 y 100. Luego imprime el *set* que resulta. Una vez resuelto, intenta generar el mismo resultado utilizando una estructura por comprensión."
   ]
  },
  {
   "cell_type": "code",
   "execution_count": 11,
   "metadata": {},
   "outputs": [
    {
     "name": "stdout",
     "output_type": "stream",
     "text": [
      "{2, 5, 7, 8, 13, 14, 16, 17, 19, 20, 22, 23, 24, 25, 26, 27, 31, 34, 36, 37, 38, 39, 41, 43, 44, 48, 49, 50, 52, 53, 54, 59, 60, 61, 63, 64, 65, 66, 67, 69, 70, 71, 72, 73, 74, 77, 79, 80, 82, 84, 85, 86, 87, 88, 89, 90, 91, 92, 93, 95, 97, 99, 100}\n",
      "63\n",
      "{0, 2, 4, 5, 7, 9, 10, 12, 13, 14, 16, 17, 18, 19, 20, 21, 22, 23, 24, 25, 26, 29, 30, 31, 32, 33, 34, 35, 38, 39, 41, 42, 46, 48, 49, 50, 51, 52, 54, 55, 58, 61, 62, 63, 64, 71, 73, 75, 76, 78, 79, 80, 81, 82, 84, 86, 88, 89, 91, 92, 95, 96, 97, 98}\n",
      "64\n"
     ]
    }
   ],
   "source": [
    "from random import randint\n",
    "def num_random(min,max):\n",
    "    return randint(min,max)\n",
    "\n",
    "set_vacio = set()\n",
    "for i in range(100):\n",
    "    set_vacio.add(randint(0,100))\n",
    "print(set_vacio)\n",
    "print(len(set_vacio))\n",
    "set_listo = {num_random(0,100) for i in range(0,100)}\n",
    "print(set_listo)\n",
    "print(len(set_listo))"
   ]
  },
  {
   "cell_type": "markdown",
   "metadata": {},
   "source": [
    "### Ejercicio 6.2: Eficiencia de revisión de pertenencia en *sets*"
   ]
  },
  {
   "cell_type": "markdown",
   "metadata": {},
   "source": [
    "La intención es extender el experimento del material que revisa el tiempo que demora buscar cierto elemento en listas y conjuntos muy grandes. En ese ejemplo, siempre se buscaba el mismo elemento. Ahora, debes extenderlo para probar varios casos, donde el elemento buscado varía. Se te entrega creada una función (`pertenencia_cronometrada`) que cronometra la revisión de pertenencia de un elemento en una estructura cualquiera; y luego está la creación del *set* y lista gigantes. El programa debe generar 100 experimentos donde busca en ambas estructuras un elemento aleatorio cualquiera y cronometra cuanto demora en cada estructura. Finalmente debe mostrar también cuanto tiempo promedio tomó para cada estructura la búsqueda en la totalidad de los experimentos.\n",
    "\n",
    "Una vez completado eso, extiende la simulación para que cada experimento aleatorio nuevo **no se repita**."
   ]
  },
  {
   "cell_type": "code",
   "execution_count": 17,
   "metadata": {},
   "outputs": [
    {
     "name": "stderr",
     "output_type": "stream",
     "text": [
      "IOPub data rate exceeded.\n",
      "The notebook server will temporarily stop sending output\n",
      "to the client in order to avoid crashing it.\n",
      "To change this limit, set the config variable\n",
      "`--NotebookApp.iopub_data_rate_limit`.\n",
      "\n",
      "Current values:\n",
      "NotebookApp.iopub_data_rate_limit=1000000.0 (bytes/sec)\n",
      "NotebookApp.rate_limit_window=3.0 (secs)\n",
      "\n"
     ]
    }
   ],
   "source": [
    "from time import time\n",
    "from random import randint\n",
    "\n",
    "def pertenencia_cronometrada(elemento, estructura):\n",
    "    inicio = time()\n",
    "    elemento in estructura\n",
    "    fin = time()\n",
    "    return fin - inicio\n",
    "\n",
    "ELEMENTOS = 10 ** 7\n",
    "lista_gigante = list(range(ELEMENTOS))\n",
    "set_gigante = set(range(ELEMENTOS))\n",
    "\n",
    "# Puedes rellenar aquí\n",
    "print(lista_gigante)\n",
    "for j in range(100):\n",
    "    \n",
    "    # Completar\n",
    "    \n",
    "    print(f\"set  -- La búsqueda de {elemento} demoró... {tiempo_set:.6f} segundos.\")\n",
    "    print(f\"list -- La búsqueda de {elemento} demoró... {tiempo_lista:.6f} segundos.\")\n",
    "\n",
    "# Puedes rellenar aquí\n",
    "\n",
    "print(f\"set  -- La búsqueda en promedio demoró... {set_promedio:.6f} segundos.\")\n",
    "print(f\"list -- La búsqueda en promedio demoró... {lista_promedio:.6f} segundos.\")\n",
    "print(f\"La búsqueda en la lista fue {lista_promedio / set_promedio:.2f} veces más lenta que en el set.\")"
   ]
  },
  {
   "cell_type": "markdown",
   "metadata": {},
   "source": [
    "## 7. `args` y `kwargs`"
   ]
  },
  {
   "cell_type": "markdown",
   "metadata": {},
   "source": [
    "### Ejercicio 7.1: Múltiples argumentos de `print`"
   ]
  },
  {
   "cell_type": "markdown",
   "metadata": {},
   "source": [
    "`print` puede recibir una cantidad arbitraría de argumentos posicionales e imprirlos todos con cierto por separador *string* entre ellos. Por defecto, ese separador es el espacio `' '`, pero también recibe un parámetro opcional (`sep`) que permite alterar dicho separador. A su vez, recibe un parámetro opcional (`end`) que permite alterar con qué termina lo impreso, cuyo default es `'\\n'` (salto de línea).\n",
    "\n",
    "El siguiente código genera una lista de listas con strings numéricos de dos dígitos. Luego se imprime fila por fila, lo cual resulta en la impresión literal de cada sub-lista contenidas en `numeros`."
   ]
  },
  {
   "cell_type": "code",
   "execution_count": 7,
   "metadata": {},
   "outputs": [
    {
     "name": "stdout",
     "output_type": "stream",
     "text": [
      "00 01 02 03 04 05 06 07 08 09\n",
      "10 11 12 13 14 15 16 17 18 19\n",
      "20 21 22 23 24 25 26 27 28 29\n",
      "30 31 32 33 34 35 36 37 38 39\n",
      "40 41 42 43 44 45 46 47 48 49\n",
      "50 51 52 53 54 55 56 57 58 59\n",
      "60 61 62 63 64 65 66 67 68 69\n",
      "70 71 72 73 74 75 76 77 78 79\n",
      "80 81 82 83 84 85 86 87 88 89\n",
      "90 91 92 93 94 95 96 97 98 99\n"
     ]
    }
   ],
   "source": [
    "numeros = [[str((fila * 10 + columna)).zfill(2) for columna in range(10)] for fila in range(10)]\n",
    "for fila in numeros:\n",
    "    print(*fila)"
   ]
  },
  {
   "cell_type": "markdown",
   "metadata": {},
   "source": [
    "Completa las siguientes secciones haciendo uso de los argumentos de `print` para imprimir los números en ciertos formatos. Primero:\n",
    "\n",
    "```\n",
    "00 01 02 03 04 05 06 07 08 09\n",
    "10 11 12 13 14 15 16 17 18 19\n",
    "20 21 22 23 24 25 26 27 28 29\n",
    "30 31 32 33 34 35 36 37 38 39\n",
    "40 41 42 43 44 45 46 47 48 49\n",
    "50 51 52 53 54 55 56 57 58 59\n",
    "60 61 62 63 64 65 66 67 68 69\n",
    "70 71 72 73 74 75 76 77 78 79\n",
    "80 81 82 83 84 85 86 87 88 89\n",
    "90 91 92 93 94 95 96 97 98 99\n",
    "```"
   ]
  },
  {
   "cell_type": "code",
   "execution_count": 5,
   "metadata": {},
   "outputs": [
    {
     "name": "stdout",
     "output_type": "stream",
     "text": [
      "00-01-02-03-04-05-06-07-08-09\n",
      "10-11-12-13-14-15-16-17-18-19\n",
      "20-21-22-23-24-25-26-27-28-29\n",
      "30-31-32-33-34-35-36-37-38-39\n",
      "40-41-42-43-44-45-46-47-48-49\n",
      "50-51-52-53-54-55-56-57-58-59\n",
      "60-61-62-63-64-65-66-67-68-69\n",
      "70-71-72-73-74-75-76-77-78-79\n",
      "80-81-82-83-84-85-86-87-88-89\n",
      "90-91-92-93-94-95-96-97-98-99\n"
     ]
    }
   ],
   "source": [
    "for fila in numeros:\n",
    "    print(*fila, sep=\"-\")"
   ]
  },
  {
   "cell_type": "markdown",
   "metadata": {},
   "source": [
    "Luego:\n",
    "```\n",
    "00-01-02-03-04-05-06-07-08-09\n",
    "10-11-12-13-14-15-16-17-18-19\n",
    "20-21-22-23-24-25-26-27-28-29\n",
    "30-31-32-33-34-35-36-37-38-39\n",
    "40-41-42-43-44-45-46-47-48-49\n",
    "50-51-52-53-54-55-56-57-58-59\n",
    "60-61-62-63-64-65-66-67-68-69\n",
    "70-71-72-73-74-75-76-77-78-79\n",
    "80-81-82-83-84-85-86-87-88-89\n",
    "90-91-92-93-94-95-96-97-98-99\n",
    "```"
   ]
  },
  {
   "cell_type": "code",
   "execution_count": 8,
   "metadata": {},
   "outputs": [
    {
     "name": "stdout",
     "output_type": "stream",
     "text": [
      "00>01>02>03>04>05>06>07>08>0910>11>12>13>14>15>16>17>18>1920>21>22>23>24>25>26>27>28>2930>31>32>33>34>35>36>37>38>3940>41>42>43>44>45>46>47>48>4950>51>52>53>54>55>56>57>58>5960>61>62>63>64>65>66>67>68>6970>71>72>73>74>75>76>77>78>7980>81>82>83>84>85>86>87>88>8990>91>92>93>94>95>96>97>98>99"
     ]
    }
   ],
   "source": [
    "for fila in numeros:\n",
    "    print(*fila, sep=\">\", end=\"\")"
   ]
  },
  {
   "cell_type": "markdown",
   "metadata": {},
   "source": [
    "Y finalmente:\n",
    "```\n",
    "00>01>02>03>04>05>06>07>08>09>10>11>12>13>14>15>16>17>18>19>20>21>22>23>24>25>26>27>28>29>30>31>32>33>34>35>36>37>38>39>40>41>42>43>44>45>46>47>48>49>50>51>52>53>54>55>56>57>58>59>60>61>62>63>64>65>66>67>68>69>70>71>72>73>74>75>76>77>78>79>80>81>82>83>84>85>86>87>88>89>90>91>92>93>94>95>96>97>98>99>\n",
    "```"
   ]
  },
  {
   "cell_type": "code",
   "execution_count": null,
   "metadata": {},
   "outputs": [],
   "source": [
    "for fila in numeros:\n",
    "    # Completar"
   ]
  },
  {
   "cell_type": "markdown",
   "metadata": {},
   "source": [
    "### Ejercicio 7.2: Clonando diccionarios"
   ]
  },
  {
   "cell_type": "markdown",
   "metadata": {},
   "source": [
    "La función `dict` permite también crear diccionarios vacíos, o con contenido. Particularmente, permite recibir argumentos por palabra clave de tal forma que el nuevo diccionario creado tenga pares llave-valor iguales a la palabra clave y argumento entregado, respectivamente."
   ]
  },
  {
   "cell_type": "code",
   "execution_count": 9,
   "metadata": {},
   "outputs": [
    {
     "name": "stdout",
     "output_type": "stream",
     "text": [
      "{'uno': 1}\n"
     ]
    }
   ],
   "source": [
    "diccionario = dict(uno = 1)\n",
    "print(diccionario)"
   ]
  },
  {
   "cell_type": "markdown",
   "metadata": {},
   "source": [
    "Con esto en mente, completa el siguiente espacio de tal forma que `diccionario_2` sea una copia de `diccionario_1`, pero no el mismo objeto. La solución cabe en una línea y no consiste en replicar la definición de `diccionario_1`."
   ]
  },
  {
   "cell_type": "code",
   "execution_count": 13,
   "metadata": {},
   "outputs": [
    {
     "name": "stdout",
     "output_type": "stream",
     "text": [
      "¿Es el mismo objeto?: False\n"
     ]
    }
   ],
   "source": [
    "diccionario_1 = {str(i): 0 for i in range(100)}\n",
    "\n",
    "diccionario_2 = dict(**diccionario_1)\n",
    "\n",
    "print(f'¿Es el mismo objeto?: {diccionario_1 is diccionario_2}')\n"
   ]
  }
 ],
 "metadata": {
  "kernelspec": {
   "display_name": "Python 3 (ipykernel)",
   "language": "python",
   "name": "python3"
  },
  "language_info": {
   "codemirror_mode": {
    "name": "ipython",
    "version": 3
   },
   "file_extension": ".py",
   "mimetype": "text/x-python",
   "name": "python",
   "nbconvert_exporter": "python",
   "pygments_lexer": "ipython3",
   "version": "3.10.6"
  },
  "vscode": {
   "interpreter": {
    "hash": "d5ddd24f91f42f1f48da0027984761d941320a4a2e99b856cc3a0031b027b0ec"
   }
  }
 },
 "nbformat": 4,
 "nbformat_minor": 4
}
